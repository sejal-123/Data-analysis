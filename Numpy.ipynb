{
 "cells": [
  {
   "cell_type": "code",
   "execution_count": 5,
   "id": "e8b79c4f-b1be-4fd1-bfe7-6bbc12a0aa07",
   "metadata": {},
   "outputs": [
    {
     "name": "stdout",
     "output_type": "stream",
     "text": [
      "Requirement already satisfied: numpy in c:\\dev\\data-analysis\\prerequisites\\venv\\lib\\site-packages (2.2.6)\n"
     ]
    }
   ],
   "source": [
    "!pip install numpy"
   ]
  },
  {
   "cell_type": "code",
   "execution_count": 6,
   "id": "ab4d72ba-a8e5-4fc4-a019-99e6e3c41a5e",
   "metadata": {},
   "outputs": [],
   "source": [
    "import numpy as np"
   ]
  },
  {
   "cell_type": "code",
   "execution_count": 7,
   "id": "36d8f3c1-cd37-4e18-8920-87630f190ec6",
   "metadata": {},
   "outputs": [],
   "source": [
    "arr = np.array([1,2,3,4,5])"
   ]
  },
  {
   "cell_type": "code",
   "execution_count": 8,
   "id": "80084091-94f5-46a4-ab26-c1d211bc3a4c",
   "metadata": {},
   "outputs": [
    {
     "data": {
      "text/plain": [
       "array([1, 2, 3, 4, 5])"
      ]
     },
     "execution_count": 8,
     "metadata": {},
     "output_type": "execute_result"
    }
   ],
   "source": [
    "arr"
   ]
  },
  {
   "cell_type": "code",
   "execution_count": 9,
   "id": "231148dd-2502-465b-adb8-e35c0b909a43",
   "metadata": {},
   "outputs": [
    {
     "name": "stdout",
     "output_type": "stream",
     "text": [
      "[1 2 3 4 5]\n"
     ]
    }
   ],
   "source": [
    "print(arr)"
   ]
  },
  {
   "cell_type": "code",
   "execution_count": 10,
   "id": "36b30de5-d30d-4c6f-b9e4-58f4c36fc363",
   "metadata": {},
   "outputs": [
    {
     "data": {
      "text/plain": [
       "numpy.ndarray"
      ]
     },
     "execution_count": 10,
     "metadata": {},
     "output_type": "execute_result"
    }
   ],
   "source": [
    "type(arr)"
   ]
  },
  {
   "cell_type": "code",
   "execution_count": 11,
   "id": "5f1d2ec2-0145-4816-9d59-32c08e536ad7",
   "metadata": {},
   "outputs": [
    {
     "data": {
      "text/plain": [
       "(5,)"
      ]
     },
     "execution_count": 11,
     "metadata": {},
     "output_type": "execute_result"
    }
   ],
   "source": [
    "arr.shape"
   ]
  },
  {
   "cell_type": "code",
   "execution_count": 13,
   "id": "7bd0f9bf-08ee-4082-b5b2-1d65141cb953",
   "metadata": {},
   "outputs": [
    {
     "data": {
      "text/plain": [
       "1"
      ]
     },
     "execution_count": 13,
     "metadata": {},
     "output_type": "execute_result"
    }
   ],
   "source": [
    "arr.ndim"
   ]
  },
  {
   "cell_type": "code",
   "execution_count": 14,
   "id": "1e6c4b6e-2889-4cc1-860d-1206220d8503",
   "metadata": {},
   "outputs": [],
   "source": [
    "arr2 = arr.reshape(1,5)"
   ]
  },
  {
   "cell_type": "code",
   "execution_count": 15,
   "id": "91242963-8a07-4a5f-8f72-e3399f381a47",
   "metadata": {},
   "outputs": [
    {
     "data": {
      "text/plain": [
       "array([[1, 2, 3, 4, 5]])"
      ]
     },
     "execution_count": 15,
     "metadata": {},
     "output_type": "execute_result"
    }
   ],
   "source": [
    "arr2"
   ]
  },
  {
   "cell_type": "code",
   "execution_count": 16,
   "id": "7667ce6b-aa41-4fb0-a573-3a0ffdf8d050",
   "metadata": {},
   "outputs": [
    {
     "data": {
      "text/plain": [
       "(1, 5)"
      ]
     },
     "execution_count": 16,
     "metadata": {},
     "output_type": "execute_result"
    }
   ],
   "source": [
    "arr2.shape"
   ]
  },
  {
   "cell_type": "code",
   "execution_count": 17,
   "id": "36dad7ae-aa2b-481f-86bc-e6d30b87f421",
   "metadata": {},
   "outputs": [
    {
     "data": {
      "text/plain": [
       "2"
      ]
     },
     "execution_count": 17,
     "metadata": {},
     "output_type": "execute_result"
    }
   ],
   "source": [
    "arr2.ndim"
   ]
  },
  {
   "cell_type": "code",
   "execution_count": 18,
   "id": "1df59483-c27b-410a-b5bc-c5f02a5f9a77",
   "metadata": {},
   "outputs": [
    {
     "data": {
      "text/plain": [
       "array([1, 3, 5, 7, 9])"
      ]
     },
     "execution_count": 18,
     "metadata": {},
     "output_type": "execute_result"
    }
   ],
   "source": [
    "arr=np.arange(1, 10, 2)\n",
    "arr"
   ]
  },
  {
   "cell_type": "code",
   "execution_count": 20,
   "id": "f55f9917-8f18-48f0-9ed9-8a90ac2d7259",
   "metadata": {},
   "outputs": [
    {
     "data": {
      "text/plain": [
       "array([1, 3, 5, 7, 9])"
      ]
     },
     "execution_count": 20,
     "metadata": {},
     "output_type": "execute_result"
    }
   ],
   "source": [
    "arr = np.arange(1, 11, 2)\n",
    "arr"
   ]
  },
  {
   "cell_type": "code",
   "execution_count": 21,
   "id": "3cf1767a-1e3d-4a32-afa8-8bbe47edc83b",
   "metadata": {},
   "outputs": [
    {
     "data": {
      "text/plain": [
       "array([ 1,  3,  5,  7,  9, 11])"
      ]
     },
     "execution_count": 21,
     "metadata": {},
     "output_type": "execute_result"
    }
   ],
   "source": [
    "arr = np.arange(1, 12, 2)\n",
    "arr"
   ]
  },
  {
   "cell_type": "code",
   "execution_count": 22,
   "id": "49978abb-c6dc-42de-af8d-9fdeea459672",
   "metadata": {},
   "outputs": [
    {
     "data": {
      "text/plain": [
       "array([[ 1],\n",
       "       [ 3],\n",
       "       [ 5],\n",
       "       [ 7],\n",
       "       [ 9],\n",
       "       [11]])"
      ]
     },
     "execution_count": 22,
     "metadata": {},
     "output_type": "execute_result"
    }
   ],
   "source": [
    "arr.reshape(6,1)"
   ]
  },
  {
   "cell_type": "code",
   "execution_count": 23,
   "id": "bee1e04c-335f-4d6d-8dee-37cb55d846c7",
   "metadata": {},
   "outputs": [
    {
     "data": {
      "text/plain": [
       "array([ 1,  3,  5,  7,  9, 11])"
      ]
     },
     "execution_count": 23,
     "metadata": {},
     "output_type": "execute_result"
    }
   ],
   "source": [
    "arr"
   ]
  },
  {
   "cell_type": "code",
   "execution_count": 24,
   "id": "4ab95aa5-3171-430d-a151-b7413dde5822",
   "metadata": {},
   "outputs": [],
   "source": [
    "ones_arr=np.ones(5)"
   ]
  },
  {
   "cell_type": "code",
   "execution_count": 26,
   "id": "be772a76-e473-4eca-bdf9-badfa70038ee",
   "metadata": {},
   "outputs": [
    {
     "data": {
      "text/plain": [
       "array([1., 1., 1., 1., 1.])"
      ]
     },
     "execution_count": 26,
     "metadata": {},
     "output_type": "execute_result"
    }
   ],
   "source": [
    "ones_arr"
   ]
  },
  {
   "cell_type": "code",
   "execution_count": 28,
   "id": "e3bb10f7-d7a5-4767-b9b2-efb18155d079",
   "metadata": {},
   "outputs": [
    {
     "data": {
      "text/plain": [
       "array([[1., 1., 1., 1.],\n",
       "       [1., 1., 1., 1.],\n",
       "       [1., 1., 1., 1.]])"
      ]
     },
     "execution_count": 28,
     "metadata": {},
     "output_type": "execute_result"
    }
   ],
   "source": [
    "np.ones((3,4))"
   ]
  },
  {
   "cell_type": "code",
   "execution_count": 31,
   "id": "4a3e5cb4-ace6-4aba-bcd2-550b4906f7c1",
   "metadata": {},
   "outputs": [
    {
     "data": {
      "text/plain": [
       "array([[1., 0., 0.],\n",
       "       [0., 1., 0.],\n",
       "       [0., 0., 1.]])"
      ]
     },
     "execution_count": 31,
     "metadata": {},
     "output_type": "execute_result"
    }
   ],
   "source": [
    "## identity matrix\n",
    "np.eye(3)"
   ]
  },
  {
   "cell_type": "code",
   "execution_count": 32,
   "id": "fb369787-acd3-49a7-9087-d01187873220",
   "metadata": {},
   "outputs": [
    {
     "data": {
      "text/plain": [
       "array([[1., 0.],\n",
       "       [0., 1.],\n",
       "       [0., 0.]])"
      ]
     },
     "execution_count": 32,
     "metadata": {},
     "output_type": "execute_result"
    }
   ],
   "source": [
    "np.eye(3,2)"
   ]
  },
  {
   "cell_type": "code",
   "execution_count": 34,
   "id": "e01103e2-bf77-45a5-8945-1aa90310d57c",
   "metadata": {},
   "outputs": [
    {
     "name": "stdout",
     "output_type": "stream",
     "text": [
      "(2, 3)\n",
      "2\n",
      "6\n",
      "int64\n",
      "8\n"
     ]
    }
   ],
   "source": [
    "## Attriubutes\n",
    "arr = np.array([[1, 2, 3], [4, 5, 6]])\n",
    "print(arr.shape)\n",
    "print(arr.ndim)\n",
    "print(arr.size)\n",
    "print(arr.dtype)\n",
    "print(arr.itemsize)"
   ]
  },
  {
   "cell_type": "code",
   "execution_count": 37,
   "id": "dbc736a8-968c-44d5-882e-b7eb25f02656",
   "metadata": {},
   "outputs": [
    {
     "name": "stdout",
     "output_type": "stream",
     "text": [
      "[11 22 33 44 55]\n",
      "[ -9 -18 -27 -36 -45]\n",
      "[ 10  40  90 160 250]\n",
      "[0.1 0.1 0.1 0.1 0.1]\n"
     ]
    }
   ],
   "source": [
    "## Vectorized operations\n",
    "arr1 = np.array([1, 2, 3, 4, 5])\n",
    "arr2 = np.array([10, 20, 30, 40, 50])\n",
    "print(arr1+arr2)\n",
    "print(arr1-arr2)\n",
    "print(arr1*arr2)\n",
    "print(arr1/arr2)"
   ]
  },
  {
   "cell_type": "code",
   "execution_count": 38,
   "id": "73b53ec1-444f-46e8-a62a-9984cccf5899",
   "metadata": {},
   "outputs": [
    {
     "name": "stdout",
     "output_type": "stream",
     "text": [
      "[1.         1.41421356 1.73205081 2.         2.23606798 2.44948974]\n",
      "[  2.71828183   7.3890561   20.08553692  54.59815003 148.4131591\n",
      " 403.42879349]\n",
      "[ 0.84147098  0.90929743  0.14112001 -0.7568025  -0.95892427 -0.2794155 ]\n",
      "[0.         0.69314718 1.09861229 1.38629436 1.60943791 1.79175947]\n"
     ]
    }
   ],
   "source": [
    "## Universal functions\n",
    "arr = np.array([1, 2, 3, 4, 5, 6])\n",
    "print(np.sqrt(arr))\n",
    "print(np.exp(arr))\n",
    "print(np.sin(arr))\n",
    "print(np.log(arr))"
   ]
  },
  {
   "cell_type": "code",
   "execution_count": 42,
   "id": "193bc54c-3c40-4ddf-8a20-36d866ba346b",
   "metadata": {},
   "outputs": [
    {
     "name": "stdout",
     "output_type": "stream",
     "text": [
      "[-1.41421356 -0.70710678  0.          0.70710678  1.41421356]\n",
      "3.5\n",
      "1.707825127659933\n",
      "3.5\n",
      "2.9166666666666665\n"
     ]
    }
   ],
   "source": [
    "## statistical ops\n",
    "data = np.array([1, 2, 3, 4, 5])\n",
    "mean = np.mean(data)\n",
    "std = np.std(data)\n",
    "normalized_data = (data - mean) / std\n",
    "print(normalized_data)\n",
    "\n",
    "print(np.mean(arr))\n",
    "print(np.std(arr))\n",
    "print(np.median(arr))\n",
    "print(np.var(arr))"
   ]
  },
  {
   "cell_type": "code",
   "execution_count": 47,
   "id": "ac010aa6-3d37-4c5b-958e-e61305cafc58",
   "metadata": {},
   "outputs": [
    {
     "name": "stdout",
     "output_type": "stream",
     "text": [
      "[False False False False False  True  True  True  True  True]\n",
      "[ 6  7  8  9 10]\n",
      "[5 6 7 8]\n"
     ]
    }
   ],
   "source": [
    "#logical operations\n",
    "\n",
    "data = np.array([1, 2, 3, 4, 5, 6, 7, 8, 9, 10])\n",
    "print(data > 5)\n",
    "print(data[data>5])\n",
    "print(data[(data>=5) & (data <= 8)])"
   ]
  },
  {
   "cell_type": "code",
   "execution_count": null,
   "id": "81673d51-60e5-420d-864f-79a210ab9fbb",
   "metadata": {},
   "outputs": [],
   "source": []
  }
 ],
 "metadata": {
  "kernelspec": {
   "display_name": "Python [conda env:venv]",
   "language": "python",
   "name": "conda-env-venv-py"
  },
  "language_info": {
   "codemirror_mode": {
    "name": "ipython",
    "version": 3
   },
   "file_extension": ".py",
   "mimetype": "text/x-python",
   "name": "python",
   "nbconvert_exporter": "python",
   "pygments_lexer": "ipython3",
   "version": "3.10.18"
  }
 },
 "nbformat": 4,
 "nbformat_minor": 5
}
